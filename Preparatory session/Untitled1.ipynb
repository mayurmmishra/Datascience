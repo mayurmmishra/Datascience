{
 "cells": [
  {
   "cell_type": "code",
   "execution_count": 5,
   "id": "09ed07c6-e11f-4a56-b94f-5e23d96f48ec",
   "metadata": {
    "tags": []
   },
   "outputs": [
    {
     "name": "stdout",
     "output_type": "stream",
     "text": [
      "Mayur Mishra\n"
     ]
    }
   ],
   "source": [
    "print(\"Mayur Mishra\")"
   ]
  },
  {
   "cell_type": "code",
   "execution_count": 2,
   "id": "10373b92-d315-49f5-ac1f-b02163ff8e2d",
   "metadata": {
    "tags": []
   },
   "outputs": [
    {
     "name": "stdout",
     "output_type": "stream",
     "text": [
      "Hello Data Science\n"
     ]
    }
   ],
   "source": [
    "print(\"Hello Data Science\")"
   ]
  }
 ],
 "metadata": {
  "kernelspec": {
   "display_name": "Python 3 (ipykernel)",
   "language": "python",
   "name": "python3"
  },
  "language_info": {
   "codemirror_mode": {
    "name": "ipython",
    "version": 3
   },
   "file_extension": ".py",
   "mimetype": "text/x-python",
   "name": "python",
   "nbconvert_exporter": "python",
   "pygments_lexer": "ipython3",
   "version": "3.11.4"
  }
 },
 "nbformat": 4,
 "nbformat_minor": 5
}
